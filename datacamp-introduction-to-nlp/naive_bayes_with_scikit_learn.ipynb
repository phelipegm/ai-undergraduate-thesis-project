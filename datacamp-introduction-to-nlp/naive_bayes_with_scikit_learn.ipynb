{
 "cells": [
  {
   "cell_type": "markdown",
   "metadata": {},
   "source": [
    "# Naive Bayes with scikit-learn"
   ]
  },
  {
   "cell_type": "markdown",
   "metadata": {},
   "source": [
    "### Important: This code won't work. It is just for study"
   ]
  },
  {
   "cell_type": "code",
   "execution_count": 1,
   "metadata": {},
   "outputs": [],
   "source": [
    "#Works well with count vectorizers as it expects integer inputs.\n",
    "#MultinomialNB is also used for multiple label classification.\n",
    "#This model may not work as well with floats, such as tfidf weighted inputs.\n",
    "#Instead, use support vector machines or even linear models.\n",
    "from sklearn.naive_bayes import MultinomialNB\n",
    "\n",
    "#Evaluate model performance.\n",
    "from sklearn import metrics"
   ]
  },
  {
   "cell_type": "code",
   "execution_count": null,
   "metadata": {},
   "outputs": [],
   "source": [
    "nb_classifier = MultinomialNB()\n",
    "\n",
    "#This will determine the internal parameters based on the dataset.\n",
    "nb_classifier.fit(count_train, y_train)\n",
    "\n",
    "#This will use the trained model to predict the label based on the test data vectors.\n",
    "pred = nb_classifier.predict(count_test)\n",
    "\n",
    "metrics.accuracy_score(y_test, pred)\n",
    "\n",
    "#To further evaluate our model, we can also check the confusion matrix which shows correct\n",
    "#and incorrect labels.\n",
    "metrics.confusion_matrix(y_test, pred, labels=[0,1])"
   ]
  }
 ],
 "metadata": {
  "kernelspec": {
   "display_name": "Python 3",
   "language": "python",
   "name": "python3"
  },
  "language_info": {
   "codemirror_mode": {
    "name": "ipython",
    "version": 3
   },
   "file_extension": ".py",
   "mimetype": "text/x-python",
   "name": "python",
   "nbconvert_exporter": "python",
   "pygments_lexer": "ipython3",
   "version": "3.6.5"
  }
 },
 "nbformat": 4,
 "nbformat_minor": 2
}
