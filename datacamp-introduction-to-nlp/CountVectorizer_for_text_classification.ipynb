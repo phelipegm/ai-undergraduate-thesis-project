{
 "cells": [
  {
   "cell_type": "markdown",
   "metadata": {},
   "source": [
    "# Build a \"fake news\" classifier"
   ]
  },
  {
   "cell_type": "markdown",
   "metadata": {},
   "source": [
    "Dataset consisting of movie plots and corresponding genre\n",
    "\n",
    "Goal: Create bag-of-word vector for the movie plots.\n",
    "\n",
    "Can we predict genre based on the words used in the plot summary ?"
   ]
  },
  {
   "cell_type": "markdown",
   "metadata": {},
   "source": [
    "### Important: This code won't work. It is just for study"
   ]
  },
  {
   "cell_type": "code",
   "execution_count": 2,
   "metadata": {},
   "outputs": [],
   "source": [
    "import pandas as pd\n",
    "from sklearn.model_selection import train_test_split\n",
    "from sklearn.feature_extraction.text import CountVectorizer"
   ]
  },
  {
   "cell_type": "code",
   "execution_count": 3,
   "metadata": {},
   "outputs": [
    {
     "ename": "TypeError",
     "evalue": "'ellipsis' object is not subscriptable",
     "output_type": "error",
     "traceback": [
      "\u001b[1;31m---------------------------------------------------------------------------\u001b[0m",
      "\u001b[1;31mTypeError\u001b[0m                                 Traceback (most recent call last)",
      "\u001b[1;32m<ipython-input-3-d52fa6efa0c0>\u001b[0m in \u001b[0;36m<module>\u001b[1;34m()\u001b[0m\n\u001b[0;32m      4\u001b[0m \u001b[1;31m#commonly used pandas object\u001b[0m\u001b[1;33m\u001b[0m\u001b[1;33m\u001b[0m\u001b[0m\n\u001b[0;32m      5\u001b[0m \u001b[1;33m\u001b[0m\u001b[0m\n\u001b[1;32m----> 6\u001b[1;33m \u001b[0my\u001b[0m \u001b[1;33m=\u001b[0m \u001b[0mdf\u001b[0m\u001b[1;33m[\u001b[0m\u001b[1;34m'Sci-Fi'\u001b[0m\u001b[1;33m]\u001b[0m \u001b[1;31m# y tradicionally refers to the labels or outcome you want the model to learn\u001b[0m\u001b[1;33m\u001b[0m\u001b[0m\n\u001b[0m\u001b[0;32m      7\u001b[0m \u001b[1;31m#1 if is Sci-Fi 0 if is Action movie\u001b[0m\u001b[1;33m\u001b[0m\u001b[1;33m\u001b[0m\u001b[0m\n\u001b[0;32m      8\u001b[0m \u001b[1;33m\u001b[0m\u001b[0m\n",
      "\u001b[1;31mTypeError\u001b[0m: 'ellipsis' object is not subscriptable"
     ]
    }
   ],
   "source": [
    "df = ... # Load data into DataFrame\n",
    "#DataFrame is a 2-dimensional labeled data structure with columns of potentially different types\n",
    "#You can think of it like a spreadsheet or SQL table, or a dict of Series objects. It is generally the most\n",
    "#commonly used pandas object\n",
    "\n",
    "# Print the head of df\n",
    "print(df.head())\n",
    "\n",
    "y = df['Sci-Fi'] # y tradicionally refers to the labels or outcome you want the model to learn\n",
    "#1 if is Sci-Fi 0 if is Action movie\n",
    "\n",
    "#scikit learn's train_test_split function can be used to split the dataframe into training and testing data\n",
    "#This method will split the features which is the plot summary or column plot and the labels (y) based on a\n",
    "#given test_size such as 0.33, representing 33%\n",
    "#random_state gives a repeatable result\n",
    "X_train, X_test, y_train, y_test = train_test_split(df['plot'], y, test_size=0.33, random_state=53)\n",
    "\n",
    "count_vectorizer = CountVectorizer(stop_words='english') #turns my text into bag-of-words vectors similar to a Gensim corpus\n",
    "                                                         #it also remove english stop words from the plot summaries as a \n",
    "                                                         #preprocessing step\n",
    "        \n",
    "#Each token now acts as a feature for the machine learning classification problem, just like the flowers measurement in \n",
    "#the iris dataset\n",
    "\n",
    "count_train = count_vectorizer.fit_transform(X_train.values) #Create the bag-of-words vectors\n",
    "#fit_transform is a handy shortcut which will call the model's fit and then transform methods\n",
    "#generates a mapping of words with IDs and vectors representing how many times each word appears in the plot\n",
    "#Operates differently for each model, but generally fit will find parameters or norms in the data and transform \n",
    "#will apply the model's underlying algorithm or approximation\n",
    "#For the CountVectorizer class, fit_transform will create the bag-of-words dictionary and vectors for each document using\n",
    "#the training data\n",
    "\n",
    "count_test = count_vectorizer.transform(X_test.values) #Create bag-of-words vector using the same dictionary\n",
    "\n",
    "# Print the first 10 features of the count_vectorizer\n",
    "print(count_vectorizer.get_feature_names()[:10])\n",
    "\n"
   ]
  },
  {
   "cell_type": "code",
   "execution_count": null,
   "metadata": {},
   "outputs": [],
   "source": []
  }
 ],
 "metadata": {
  "kernelspec": {
   "display_name": "Python 3",
   "language": "python",
   "name": "python3"
  },
  "language_info": {
   "codemirror_mode": {
    "name": "ipython",
    "version": 3
   },
   "file_extension": ".py",
   "mimetype": "text/x-python",
   "name": "python",
   "nbconvert_exporter": "python",
   "pygments_lexer": "ipython3",
   "version": "3.6.5"
  }
 },
 "nbformat": 4,
 "nbformat_minor": 2
}
