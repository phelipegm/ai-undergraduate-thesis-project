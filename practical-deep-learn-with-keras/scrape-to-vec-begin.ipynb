{
 "cells": [
  {
   "cell_type": "markdown",
   "metadata": {},
   "source": [
    "# Collect all the proteins that shows the ATP Binding Function"
   ]
  },
  {
   "cell_type": "code",
   "execution_count": 91,
   "metadata": {
    "collapsed": true
   },
   "outputs": [],
   "source": [
    "from __future__ import print_function"
   ]
  },
  {
   "cell_type": "code",
   "execution_count": 92,
   "metadata": {
    "collapsed": true
   },
   "outputs": [],
   "source": [
    "import re\n",
    "import os\n",
    "import glob"
   ]
  },
  {
   "cell_type": "code",
   "execution_count": 93,
   "metadata": {
    "collapsed": false
   },
   "outputs": [
    {
     "name": "stdout",
     "output_type": "stream",
     "text": [
      "data-scrapes\n"
     ]
    }
   ],
   "source": [
    "# want to make '../data-scrapes' on *nix and '..\\data-scrapes' on Windows\n",
    "scrape_dir = os.path.join('data-scrapes')\n",
    "print(scrape_dir)"
   ]
  },
  {
   "cell_type": "code",
   "execution_count": 94,
   "metadata": {
    "collapsed": false
   },
   "outputs": [
    {
     "name": "stdout",
     "output_type": "stream",
     "text": [
      "Converting sequence ...\n",
      "Writing to: data\\protein-seqs-2018-06-24-133921.txt\n"
     ]
    }
   ],
   "source": [
    "import datetime, time\n",
    "ts = time.time()\n",
    "st = datetime.datetime.fromtimestamp(ts).strftime('%Y-%m-%d-%H%M%S')\n",
    "\n",
    "print(\"Converting sequence ...\")\n",
    "out_file = os.path.join('data', 'protein-seqs-' + st + '.txt')\n",
    "\n",
    "print(\"Writing to: %s\" % out_file)"
   ]
  },
  {
   "cell_type": "code",
   "execution_count": 95,
   "metadata": {
    "collapsed": false
   },
   "outputs": [
    {
     "name": "stdout",
     "output_type": "stream",
     "text": [
      "['data-scrapes\\\\all-human-0001.fasta']\n"
     ]
    }
   ],
   "source": [
    "num_proteins_done = 0 #TODO: Remove (here to reduce complexity)\n",
    "\n",
    "#All files are read like this:\n",
    "fasta_files = glob.glob(os.path.join(scrape_dir, '*.fasta'))\n",
    "print(fasta_files)\n"
   ]
  },
  {
   "cell_type": "code",
   "execution_count": 96,
   "metadata": {
    "collapsed": true
   },
   "outputs": [],
   "source": [
    "#Helper function\n",
    "def dump_to_file(protein_id, sequence):\n",
    "    with open(out_file, \"a\") as f:\n",
    "        f.write(protein_id + \",\" + sequence + \"\\n\")"
   ]
  },
  {
   "cell_type": "code",
   "execution_count": 97,
   "metadata": {
    "collapsed": false
   },
   "outputs": [
    {
     "name": "stdout",
     "output_type": "stream",
     "text": [
      "Converting: data-scrapes\\all-human-0001.fasta: \n",
      "ok\n",
      "ok\n",
      "ok\n",
      "ok\n",
      "ok\n",
      "ok\n",
      "ok\n",
      "ok\n",
      "ok\n",
      "ok\n",
      "ok\n"
     ]
    }
   ],
   "source": [
    "for fname in fasta_files:\n",
    "    print(\"Converting: %s: \" % fname)\n",
    "    \n",
    "    with open(fname, \"r\") as f:\n",
    "        protein_seq = ''\n",
    "        protein_id = ''\n",
    "        \n",
    "        for line in f:\n",
    "            #Match this: >[two chars]|[alphanumeric chars]|[something more]\n",
    "            match = re.search(r'>([a-z]{2})\\|([A-Z0-9]*)\\|', line)\n",
    "            #To see more about regular expressions, look at https://www.tutorialspoint.com/python3/python_reg_expressions.htm\n",
    "            if match:\n",
    "                print('ok')\n",
    "                if protein_id != '':\n",
    "                    dump_to_file(protein_id, protein_seq)\n",
    "                \n",
    "                num_proteins_done += 1\n",
    "                if num_proteins_done > 10: break\n",
    "                \n",
    "                protein_id = match.group(2)\n",
    "                \n",
    "            else:\n",
    "                protein_seq += line.strip()\n",
    "                \n",
    "        if protein_id != '':\n",
    "            dump_to_file(protein_id, protein_seq)"
   ]
  },
  {
   "cell_type": "code",
   "execution_count": 98,
   "metadata": {
    "collapsed": false
   },
   "outputs": [
    {
     "name": "stdout",
     "output_type": "stream",
     "text": [
      "Converting functions...\n",
      "data\\protein-functions-2018-06-24-133921.txt\n"
     ]
    }
   ],
   "source": [
    "print(\"Converting functions...\")\n",
    "out_file_fns = os.path.join('data', 'protein-functions-' + st + '.txt')\n",
    "print(out_file_fns)\n",
    "\n",
    "target_functions = ['0005524'] #Just ATP Binding for now"
   ]
  },
  {
   "cell_type": "code",
   "execution_count": 99,
   "metadata": {
    "collapsed": false
   },
   "outputs": [
    {
     "name": "stdout",
     "output_type": "stream",
     "text": [
      "['data-scrapes\\\\all-human-0001-annotations.txt']\n"
     ]
    }
   ],
   "source": [
    "annot_files = glob.glob(os.path.join(scrape_dir,'*annotations.txt'))\n",
    "print(annot_files)"
   ]
  },
  {
   "cell_type": "code",
   "execution_count": 100,
   "metadata": {
    "collapsed": false
   },
   "outputs": [
    {
     "name": "stdout",
     "output_type": "stream",
     "text": [
      "['P27361', 'P53779', 'Q9UHC1', 'Q9NYL2', 'O15440', 'P33527', 'Q92887', 'O15438', 'O15439', 'Q5T3U5']\n"
     ]
    }
   ],
   "source": [
    "has_function = []\n",
    "\n",
    "for fname in annot_files:\n",
    "    with open(fname, 'r') as f:\n",
    "        for line in f:\n",
    "            match = re.search(r'([A-Z0-9]*)\\sGO:(.*);\\sF:.*;', line)\n",
    "            if match:\n",
    "                protein_id = match.group(1)\n",
    "                function = match.group(2)\n",
    "                \n",
    "                if function not in target_functions:\n",
    "                    continue\n",
    "                    \n",
    "                has_function.append(protein_id)\n",
    "                \n",
    "    import json\n",
    "    with open(out_file_fns, 'w') as fp:\n",
    "        json.dump(has_function, fp)\n",
    "        \n",
    "    print(has_function[:10])"
   ]
  },
  {
   "cell_type": "code",
   "execution_count": null,
   "metadata": {
    "collapsed": true
   },
   "outputs": [],
   "source": []
  }
 ],
 "metadata": {
  "anaconda-cloud": {},
  "kernelspec": {
   "display_name": "Python [conda env:Anaconda3]",
   "language": "python",
   "name": "conda-env-Anaconda3-py"
  },
  "language_info": {
   "codemirror_mode": {
    "name": "ipython",
    "version": 3
   },
   "file_extension": ".py",
   "mimetype": "text/x-python",
   "name": "python",
   "nbconvert_exporter": "python",
   "pygments_lexer": "ipython3",
   "version": "3.5.2"
  }
 },
 "nbformat": 4,
 "nbformat_minor": 1
}
